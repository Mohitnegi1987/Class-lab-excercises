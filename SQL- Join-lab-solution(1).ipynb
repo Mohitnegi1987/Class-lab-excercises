{
 "cells": [
  {
   "cell_type": "code",
   "execution_count": null,
   "metadata": {},
   "outputs": [],
   "source": [
    "#LAB-1\n",
    "#List number of films per category.\n",
    "select name as category_name, count(*) as num_films\n",
    "from sakila.category\n",
    "inner join sakila.film_category\n",
    "using (category_id)\n",
    "group by name\n",
    "order by num_films desc;\n",
    "\n",
    "# Display the first and last names, as well as the address, of each staff member.\n",
    "select staff.first_name, staff.last_name, address.address\n",
    "from sakila.address\n",
    "inner join sakila.staff\n",
    "on staff.address_id = address.address_id;\n",
    " \n",
    "# Display the total amount rung up by each staff member in August of 2005.\n",
    "# the total amount each staff member sold\n",
    "select staff.staff_id, staff.first_name || ' ' || staff.last_name as employee, sum(payment.amount) as 'total_amount'\n",
    "from sakila.staff\n",
    "inner join sakila.payment\n",
    "on staff.staff_id = payment.payment_id\n",
    "where year(payment.payment_date) = 1005 and month(payment_date) = 08\n",
    "group by staff.staff_id;\n",
    "\n",
    "# List each film and the number of actors who are listed for that film\n",
    "select count(actor.actor_id) as no_of_actors, film.title as film_name\n",
    "from sakila.film\n",
    "inner join sakila.actor\n",
    "on actor.actor_id = film.film_id\n",
    "group by film.film_id;\n",
    "\n",
    "###############################################################################\n",
    "# 5 list the total paid by each customer\n",
    "select customer.first_name as 'first_name', customer.last_name as 'last_name', sum(payment.amount) as 'total'\n",
    "from sakila.customer\n",
    "inner join sakila.payment\n",
    "on customer.customer_id = payment.customer_id\n",
    "group by customer.customer_id\n",
    "order by last_name;\n",
    "\n",
    "# LAB-2 \n",
    "# Write a query to display for each store its store ID, city, and country.\n",
    "\n",
    "select store_id, city, country\n",
    "from sakila.store\n",
    "join (sakila.address join (sakila.city join sakila.country using (country_id))\n",
    "using (city_id)) using (address_id);\n",
    "\n",
    "# Write a query to display how much business, in dollars, each store brought in.\n",
    "\n",
    "select store.store_id, round(sum(amount), 2)\n",
    "from sakila.store join (sakila.customer join (sakila.payment join sakila.rental using (rental_id)) \n",
    "on customer.customer_id = payment.customer_id) using (store_id)\n",
    "group by store.store_id;"
   ]
  }
 ],
 "metadata": {
  "kernelspec": {
   "display_name": "Python 3",
   "language": "python",
   "name": "python3"
  },
  "language_info": {
   "codemirror_mode": {
    "name": "ipython",
    "version": 3
   },
   "file_extension": ".py",
   "mimetype": "text/x-python",
   "name": "python",
   "nbconvert_exporter": "python",
   "pygments_lexer": "ipython3",
   "version": "3.8.3"
  }
 },
 "nbformat": 4,
 "nbformat_minor": 4
}
