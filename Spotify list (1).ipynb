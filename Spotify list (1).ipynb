{
 "cells": [
  {
   "cell_type": "code",
   "execution_count": 1,
   "metadata": {},
   "outputs": [],
   "source": [
    "from bs4 import BeautifulSoup\n",
    "import pandas as pd\n",
    "import requests\n",
    "from time import sleep\n",
    "from datetime import date, timedelta"
   ]
  },
  {
   "cell_type": "code",
   "execution_count": 2,
   "metadata": {},
   "outputs": [],
   "source": [
    "dates=[]\n",
    "url_list=[]\n",
    "final = []"
   ]
  },
  {
   "cell_type": "code",
   "execution_count": 3,
   "metadata": {},
   "outputs": [],
   "source": [
    "#map site\n",
    "\n",
    "url = \"https://spotifycharts.com/regional/de/daily/\"\n",
    "start_date= date(2019, 9, 1)\n",
    "end_date= date(2020, 9, 1)\n",
    "\n",
    "delta= end_date-start_date\n",
    "\n",
    "for i in range(delta.days+1):\n",
    "    day = start_date+timedelta(days=i)\n",
    "    day_string= day.strftime(\"%Y-%m-%d\")\n",
    "    dates.append(day_string)\n",
    "\n",
    "def add_url():\n",
    "    for date in dates:\n",
    "        c_string = url+date\n",
    "        url_list.append(c_string)\n",
    "\n",
    "add_url()"
   ]
  },
  {
   "cell_type": "code",
   "execution_count": 6,
   "metadata": {},
   "outputs": [
    {
     "ename": "KeyboardInterrupt",
     "evalue": "",
     "output_type": "error",
     "traceback": [
      "\u001b[0;31m---------------------------------------------------------------------------\u001b[0m",
      "\u001b[0;31mKeyboardInterrupt\u001b[0m                         Traceback (most recent call last)",
      "\u001b[0;32m<ipython-input-6-af108001bd5b>\u001b[0m in \u001b[0;36m<module>\u001b[0;34m\u001b[0m\n\u001b[1;32m      1\u001b[0m \u001b[0;32mfor\u001b[0m \u001b[0mu\u001b[0m \u001b[0;32min\u001b[0m \u001b[0murl_list\u001b[0m\u001b[0;34m:\u001b[0m\u001b[0;34m\u001b[0m\u001b[0;34m\u001b[0m\u001b[0m\n\u001b[1;32m      2\u001b[0m     \u001b[0mread_pg\u001b[0m\u001b[0;34m=\u001b[0m \u001b[0mrequests\u001b[0m\u001b[0;34m.\u001b[0m\u001b[0mget\u001b[0m\u001b[0;34m(\u001b[0m\u001b[0mu\u001b[0m\u001b[0;34m)\u001b[0m\u001b[0;34m\u001b[0m\u001b[0;34m\u001b[0m\u001b[0m\n\u001b[0;32m----> 3\u001b[0;31m     \u001b[0msleep\u001b[0m\u001b[0;34m(\u001b[0m\u001b[0;36m2\u001b[0m\u001b[0;34m)\u001b[0m\u001b[0;34m\u001b[0m\u001b[0;34m\u001b[0m\u001b[0m\n\u001b[0m\u001b[1;32m      4\u001b[0m     \u001b[0msoup\u001b[0m\u001b[0;34m=\u001b[0m \u001b[0mBeautifulSoup\u001b[0m\u001b[0;34m(\u001b[0m\u001b[0mread_pg\u001b[0m\u001b[0;34m.\u001b[0m\u001b[0mtext\u001b[0m\u001b[0;34m,\u001b[0m \u001b[0;34m\"html.parser\"\u001b[0m\u001b[0;34m)\u001b[0m\u001b[0;34m\u001b[0m\u001b[0;34m\u001b[0m\u001b[0m\n\u001b[1;32m      5\u001b[0m     \u001b[0msongs\u001b[0m\u001b[0;34m=\u001b[0m \u001b[0msoup\u001b[0m\u001b[0;34m.\u001b[0m\u001b[0mfind\u001b[0m\u001b[0;34m(\u001b[0m\u001b[0;34m\"table\"\u001b[0m\u001b[0;34m,\u001b[0m \u001b[0;34m{\u001b[0m\u001b[0;34m\"class\"\u001b[0m\u001b[0;34m:\u001b[0m\u001b[0;34m\"chart-table\"\u001b[0m\u001b[0;34m}\u001b[0m\u001b[0;34m)\u001b[0m\u001b[0;34m\u001b[0m\u001b[0;34m\u001b[0m\u001b[0m\n",
      "\u001b[0;31mKeyboardInterrupt\u001b[0m: "
     ]
    }
   ],
   "source": [
    "for u in url_list:\n",
    "    read_pg= requests.get(u)\n",
    "    sleep(2)\n",
    "    soup= BeautifulSoup(read_pg.text, \"html.parser\")\n",
    "    songs= soup.find(\"table\", {\"class\":\"chart-table\"})\n",
    "    song_scrape(u)"
   ]
  },
  {
   "cell_type": "code",
   "execution_count": 5,
   "metadata": {},
   "outputs": [],
   "source": [
    "def song_scrape(x):\n",
    "    pg = x\n",
    "    for tr in songs.find(\"tbody\").findAll(\"tr\"):\n",
    "        artist= tr.find(\"td\", {\"class\": \"chart-table-track\"}).find(\"span\").text\n",
    "        artist= artist.replace(\"by \",\"\").strip()\n",
    "  \n",
    "        title= tr.find(\"td\", {\"class\": \"chart-table-track\"}).find(\"strong\").text\n",
    " \n",
    "        songid= tr.find(\"td\", {\"class\": \"chart-table-image\"}).find(\"a\").get(\"href\")\n",
    "        songid= songid.split(\"track/\")[1]\n",
    "    \n",
    "        url_date= x.split(\"daily/\")[1]\n",
    "        \n",
    "        final.append([title, artist, songid, url_date])"
   ]
  },
  {
   "cell_type": "code",
   "execution_count": 8,
   "metadata": {},
   "outputs": [],
   "source": [
    "final_df = pd.DataFrame(final, columns= [\"Title\", \"Artist\", \"Song ID\", \"Chart Date\"])\n",
    "\n",
    "with open('spmooddata.csv', 'w') as f:        \n",
    "        final_df.to_csv(f, header= True, index=False)"
   ]
  },
  {
   "cell_type": "code",
   "execution_count": 9,
   "metadata": {},
   "outputs": [
    {
     "data": {
      "text/html": [
       "<div>\n",
       "<style scoped>\n",
       "    .dataframe tbody tr th:only-of-type {\n",
       "        vertical-align: middle;\n",
       "    }\n",
       "\n",
       "    .dataframe tbody tr th {\n",
       "        vertical-align: top;\n",
       "    }\n",
       "\n",
       "    .dataframe thead th {\n",
       "        text-align: right;\n",
       "    }\n",
       "</style>\n",
       "<table border=\"1\" class=\"dataframe\">\n",
       "  <thead>\n",
       "    <tr style=\"text-align: right;\">\n",
       "      <th></th>\n",
       "      <th>Title</th>\n",
       "      <th>Artist</th>\n",
       "      <th>Song ID</th>\n",
       "      <th>Chart Date</th>\n",
       "    </tr>\n",
       "  </thead>\n",
       "  <tbody>\n",
       "    <tr>\n",
       "      <th>0</th>\n",
       "      <td>Roller</td>\n",
       "      <td>Apache 207</td>\n",
       "      <td>5dhQeuLGmlhfwlI6BWfSpo</td>\n",
       "      <td>2019-09-01</td>\n",
       "    </tr>\n",
       "    <tr>\n",
       "      <th>1</th>\n",
       "      <td>UP IN SMOKE</td>\n",
       "      <td>RIN</td>\n",
       "      <td>01vR5Z7AHinp9D2wu2BNQS</td>\n",
       "      <td>2019-09-01</td>\n",
       "    </tr>\n",
       "    <tr>\n",
       "      <th>2</th>\n",
       "      <td>Vendetta</td>\n",
       "      <td>RAF Camora</td>\n",
       "      <td>28r8yfatcoOTY7ZjqhKaJM</td>\n",
       "      <td>2019-09-01</td>\n",
       "    </tr>\n",
       "    <tr>\n",
       "      <th>3</th>\n",
       "      <td>Dance Monkey</td>\n",
       "      <td>Tones And I</td>\n",
       "      <td>1rgnBhdG2JDFTbYkYRZAku</td>\n",
       "      <td>2019-09-01</td>\n",
       "    </tr>\n",
       "    <tr>\n",
       "      <th>4</th>\n",
       "      <td>Nummer 1</td>\n",
       "      <td>Capital Bra, Samra</td>\n",
       "      <td>3drwaFqLSEjqzjNRbjap0R</td>\n",
       "      <td>2019-09-01</td>\n",
       "    </tr>\n",
       "    <tr>\n",
       "      <th>...</th>\n",
       "      <td>...</td>\n",
       "      <td>...</td>\n",
       "      <td>...</td>\n",
       "      <td>...</td>\n",
       "    </tr>\n",
       "    <tr>\n",
       "      <th>11595</th>\n",
       "      <td>Deine Mutter</td>\n",
       "      <td>Kool Savas, Nessi</td>\n",
       "      <td>4y8xXLG9O3Rbl6e1KaNRTG</td>\n",
       "      <td>2019-10-28</td>\n",
       "    </tr>\n",
       "    <tr>\n",
       "      <th>11596</th>\n",
       "      <td>Bruises</td>\n",
       "      <td>Lewis Capaldi</td>\n",
       "      <td>4Of7rzpRpV1mWRbhp5rAqG</td>\n",
       "      <td>2019-10-28</td>\n",
       "    </tr>\n",
       "    <tr>\n",
       "      <th>11597</th>\n",
       "      <td>Papi (feat. badmómzjay)</td>\n",
       "      <td>Monet192</td>\n",
       "      <td>6Q2qQTdLNfOubXXXzMNgwd</td>\n",
       "      <td>2019-10-28</td>\n",
       "    </tr>\n",
       "    <tr>\n",
       "      <th>11598</th>\n",
       "      <td>Yeah</td>\n",
       "      <td>Luciano</td>\n",
       "      <td>0qpJmNY2DvYNj2MeqTHcYY</td>\n",
       "      <td>2019-10-28</td>\n",
       "    </tr>\n",
       "    <tr>\n",
       "      <th>11599</th>\n",
       "      <td>Make It Right (feat. Lauv)</td>\n",
       "      <td>BTS</td>\n",
       "      <td>314ZkcV7oLWG8yWE7LABvH</td>\n",
       "      <td>2019-10-28</td>\n",
       "    </tr>\n",
       "  </tbody>\n",
       "</table>\n",
       "<p>11600 rows × 4 columns</p>\n",
       "</div>"
      ],
      "text/plain": [
       "                            Title              Artist                 Song ID  \\\n",
       "0                          Roller          Apache 207  5dhQeuLGmlhfwlI6BWfSpo   \n",
       "1                     UP IN SMOKE                 RIN  01vR5Z7AHinp9D2wu2BNQS   \n",
       "2                        Vendetta          RAF Camora  28r8yfatcoOTY7ZjqhKaJM   \n",
       "3                    Dance Monkey         Tones And I  1rgnBhdG2JDFTbYkYRZAku   \n",
       "4                        Nummer 1  Capital Bra, Samra  3drwaFqLSEjqzjNRbjap0R   \n",
       "...                           ...                 ...                     ...   \n",
       "11595                Deine Mutter   Kool Savas, Nessi  4y8xXLG9O3Rbl6e1KaNRTG   \n",
       "11596                     Bruises       Lewis Capaldi  4Of7rzpRpV1mWRbhp5rAqG   \n",
       "11597     Papi (feat. badmómzjay)            Monet192  6Q2qQTdLNfOubXXXzMNgwd   \n",
       "11598                        Yeah             Luciano  0qpJmNY2DvYNj2MeqTHcYY   \n",
       "11599  Make It Right (feat. Lauv)                 BTS  314ZkcV7oLWG8yWE7LABvH   \n",
       "\n",
       "       Chart Date  \n",
       "0      2019-09-01  \n",
       "1      2019-09-01  \n",
       "2      2019-09-01  \n",
       "3      2019-09-01  \n",
       "4      2019-09-01  \n",
       "...           ...  \n",
       "11595  2019-10-28  \n",
       "11596  2019-10-28  \n",
       "11597  2019-10-28  \n",
       "11598  2019-10-28  \n",
       "11599  2019-10-28  \n",
       "\n",
       "[11600 rows x 4 columns]"
      ]
     },
     "execution_count": 9,
     "metadata": {},
     "output_type": "execute_result"
    }
   ],
   "source": [
    "final_df"
   ]
  },
  {
   "cell_type": "code",
   "execution_count": null,
   "metadata": {},
   "outputs": [],
   "source": []
  },
  {
   "cell_type": "code",
   "execution_count": null,
   "metadata": {},
   "outputs": [],
   "source": []
  },
  {
   "cell_type": "code",
   "execution_count": null,
   "metadata": {},
   "outputs": [],
   "source": []
  },
  {
   "cell_type": "code",
   "execution_count": null,
   "metadata": {},
   "outputs": [],
   "source": []
  },
  {
   "cell_type": "code",
   "execution_count": null,
   "metadata": {},
   "outputs": [],
   "source": []
  }
 ],
 "metadata": {
  "kernelspec": {
   "display_name": "Python 3",
   "language": "python",
   "name": "python3"
  },
  "language_info": {
   "codemirror_mode": {
    "name": "ipython",
    "version": 3
   },
   "file_extension": ".py",
   "mimetype": "text/x-python",
   "name": "python",
   "nbconvert_exporter": "python",
   "pygments_lexer": "ipython3",
   "version": "3.8.3"
  }
 },
 "nbformat": 4,
 "nbformat_minor": 4
}
